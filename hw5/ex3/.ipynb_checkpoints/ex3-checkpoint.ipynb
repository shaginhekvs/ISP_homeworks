{
 "cells": [
  {
   "cell_type": "code",
   "execution_count": 62,
   "metadata": {},
   "outputs": [],
   "source": [
    "import requests, json, time"
   ]
  },
  {
   "cell_type": "markdown",
   "metadata": {},
   "source": [
    "## Part1\n",
    "- Just implement a Paillier’s Encryption Scheme on the lecture notes"
   ]
  },
  {
   "cell_type": "code",
   "execution_count": 3,
   "metadata": {
    "scrolled": true
   },
   "outputs": [
    {
     "name": "stdout",
     "output_type": "stream",
     "text": [
      "{\n",
      "  \"x\": [\n",
      "    0, \n",
      "    1, \n",
      "    0, \n",
      "    0, \n",
      "    0, \n",
      "    0, \n",
      "    1, \n",
      "    0, \n",
      "    0, \n",
      "    0, \n",
      "    0, \n",
      "    1\n",
      "  ]\n",
      "}\n",
      "\n"
     ]
    }
   ],
   "source": [
    "# get the data\n",
    "email = 'fengyu.cai@epfl.ch'\n",
    "url_1 = 'http://com402.epfl.ch/hw5/ex3/get_input'\n",
    "data = json.loads(json.dumps({'email':email}))\n",
    "r = requests.post(url=url_1, json=data)\n",
    "print(r.text)\n",
    "x = json.loads(r.text)"
   ]
  },
  {
   "cell_type": "code",
   "execution_count": 4,
   "metadata": {},
   "outputs": [],
   "source": [
    "def enc(x):\n",
    "    return pow(188, x, 34969) * pow(83,187,34969) % 34969"
   ]
  },
  {
   "cell_type": "code",
   "execution_count": 5,
   "metadata": {},
   "outputs": [],
   "source": [
    "def dec(x):\n",
    "    return (((pow(x,160,34969)-1) // 187) * 90) % 187"
   ]
  },
  {
   "cell_type": "code",
   "execution_count": 10,
   "metadata": {},
   "outputs": [
    {
     "data": {
      "text/plain": [
       "[2780, 33074, 2780, 2780, 2780, 2780, 33074, 2780, 2780, 2780, 2780, 33074]"
      ]
     },
     "execution_count": 10,
     "metadata": {},
     "output_type": "execute_result"
    }
   ],
   "source": [
    "vector_enc_int = [enc(i) for i in x['x']]\n",
    "vector_enc_int"
   ]
  },
  {
   "cell_type": "code",
   "execution_count": 14,
   "metadata": {},
   "outputs": [
    {
     "data": {
      "text/plain": [
       "'{\\n  \"encrypted_prediction\": 20149\\n}\\n'"
      ]
     },
     "execution_count": 14,
     "metadata": {},
     "output_type": "execute_result"
    }
   ],
   "source": [
    "url = 'http://com402.epfl.ch/hw5/ex3/securehealth/prediction_service'\n",
    "data = {'email':'fengyu.cai@epfl.ch', 'pk':187, 'encrypted_input':vector_enc_int, 'model':1}\n",
    "r = requests.post(url=url, json=json.loads(json.dumps(data)))\n",
    "r.text"
   ]
  },
  {
   "cell_type": "code",
   "execution_count": 15,
   "metadata": {},
   "outputs": [
    {
     "data": {
      "text/plain": [
       "18"
      ]
     },
     "execution_count": 15,
     "metadata": {},
     "output_type": "execute_result"
    }
   ],
   "source": [
    "dec(20149)"
   ]
  },
  {
   "cell_type": "code",
   "execution_count": 16,
   "metadata": {
    "scrolled": true
   },
   "outputs": [
    {
     "data": {
      "text/plain": [
       "'{\\n  \"token\": \"d8uKaLlWCVqFBefBWsQ1aBCYcUQ/hHeoCZmE+7bQ1dw=\"\\n}\\n'"
      ]
     },
     "execution_count": 16,
     "metadata": {},
     "output_type": "execute_result"
    }
   ],
   "source": [
    "url_submit1 = 'http://com402.epfl.ch/hw5/ex3/get_token_1'\n",
    "data_submit1 = {'email':'fengyu.cai@epfl.ch', 'prediction':18}\n",
    "r = requests.post(url=url_submit1, json=json.loads(json.dumps(data_submit1)))\n",
    "r.text"
   ]
  },
  {
   "cell_type": "markdown",
   "metadata": {},
   "source": [
    "### Part2\n",
    "Firstly, we put one-hot vector as input to get the value of w1+b,w2+b..."
   ]
  },
  {
   "cell_type": "code",
   "execution_count": 17,
   "metadata": {},
   "outputs": [],
   "source": [
    "data_list = []\n",
    "for i in range(12):\n",
    "    data_list.append([0]*i + [1] + [0]*(12-1-i))"
   ]
  },
  {
   "cell_type": "code",
   "execution_count": 18,
   "metadata": {},
   "outputs": [
    {
     "data": {
      "text/plain": [
       "[[1, 0, 0, 0, 0, 0, 0, 0, 0, 0, 0, 0],\n",
       " [0, 1, 0, 0, 0, 0, 0, 0, 0, 0, 0, 0],\n",
       " [0, 0, 1, 0, 0, 0, 0, 0, 0, 0, 0, 0],\n",
       " [0, 0, 0, 1, 0, 0, 0, 0, 0, 0, 0, 0],\n",
       " [0, 0, 0, 0, 1, 0, 0, 0, 0, 0, 0, 0],\n",
       " [0, 0, 0, 0, 0, 1, 0, 0, 0, 0, 0, 0],\n",
       " [0, 0, 0, 0, 0, 0, 1, 0, 0, 0, 0, 0],\n",
       " [0, 0, 0, 0, 0, 0, 0, 1, 0, 0, 0, 0],\n",
       " [0, 0, 0, 0, 0, 0, 0, 0, 1, 0, 0, 0],\n",
       " [0, 0, 0, 0, 0, 0, 0, 0, 0, 1, 0, 0],\n",
       " [0, 0, 0, 0, 0, 0, 0, 0, 0, 0, 1, 0],\n",
       " [0, 0, 0, 0, 0, 0, 0, 0, 0, 0, 0, 1]]"
      ]
     },
     "execution_count": 18,
     "metadata": {},
     "output_type": "execute_result"
    }
   ],
   "source": [
    "data_list"
   ]
  },
  {
   "cell_type": "code",
   "execution_count": 19,
   "metadata": {},
   "outputs": [
    {
     "data": {
      "text/plain": [
       "[[33074, 2780, 2780, 2780, 2780, 2780, 2780, 2780, 2780, 2780, 2780, 2780],\n",
       " [2780, 33074, 2780, 2780, 2780, 2780, 2780, 2780, 2780, 2780, 2780, 2780],\n",
       " [2780, 2780, 33074, 2780, 2780, 2780, 2780, 2780, 2780, 2780, 2780, 2780],\n",
       " [2780, 2780, 2780, 33074, 2780, 2780, 2780, 2780, 2780, 2780, 2780, 2780],\n",
       " [2780, 2780, 2780, 2780, 33074, 2780, 2780, 2780, 2780, 2780, 2780, 2780],\n",
       " [2780, 2780, 2780, 2780, 2780, 33074, 2780, 2780, 2780, 2780, 2780, 2780],\n",
       " [2780, 2780, 2780, 2780, 2780, 2780, 33074, 2780, 2780, 2780, 2780, 2780],\n",
       " [2780, 2780, 2780, 2780, 2780, 2780, 2780, 33074, 2780, 2780, 2780, 2780],\n",
       " [2780, 2780, 2780, 2780, 2780, 2780, 2780, 2780, 33074, 2780, 2780, 2780],\n",
       " [2780, 2780, 2780, 2780, 2780, 2780, 2780, 2780, 2780, 33074, 2780, 2780],\n",
       " [2780, 2780, 2780, 2780, 2780, 2780, 2780, 2780, 2780, 2780, 33074, 2780],\n",
       " [2780, 2780, 2780, 2780, 2780, 2780, 2780, 2780, 2780, 2780, 2780, 33074]]"
      ]
     },
     "execution_count": 19,
     "metadata": {},
     "output_type": "execute_result"
    }
   ],
   "source": [
    "enc_list = [[enc(i) for i in l] for l in data_list]\n",
    "enc_list"
   ]
  },
  {
   "cell_type": "code",
   "execution_count": 71,
   "metadata": {},
   "outputs": [],
   "source": [
    "dec_list = []"
   ]
  },
  {
   "cell_type": "code",
   "execution_count": 72,
   "metadata": {
    "scrolled": true
   },
   "outputs": [
    {
     "name": "stdout",
     "output_type": "stream",
     "text": [
      "[33074, 2780, 2780, 2780, 2780, 2780, 2780, 2780, 2780, 2780, 2780, 2780]\n",
      "{\n",
      "  \"encrypted_prediction\": 2593\n",
      "}\n",
      "\n",
      "[2780, 33074, 2780, 2780, 2780, 2780, 2780, 2780, 2780, 2780, 2780, 2780]\n",
      "{\n",
      "  \"encrypted_prediction\": 15205\n",
      "}\n",
      "\n",
      "[2780, 2780, 33074, 2780, 2780, 2780, 2780, 2780, 2780, 2780, 2780, 2780]\n",
      "{\n",
      "  \"encrypted_prediction\": 7060\n",
      "}\n",
      "\n",
      "[2780, 2780, 2780, 33074, 2780, 2780, 2780, 2780, 2780, 2780, 2780, 2780]\n",
      "{\n",
      "  \"encrypted_prediction\": 14792\n",
      "}\n",
      "\n",
      "[2780, 2780, 2780, 2780, 33074, 2780, 2780, 2780, 2780, 2780, 2780, 2780]\n",
      "{\n",
      "  \"encrypted_prediction\": 23457\n",
      "}\n",
      "\n",
      "[2780, 2780, 2780, 2780, 2780, 33074, 2780, 2780, 2780, 2780, 2780, 2780]\n",
      "{\n",
      "  \"encrypted_prediction\": 23131\n",
      "}\n",
      "\n",
      "[2780, 2780, 2780, 2780, 2780, 2780, 33074, 2780, 2780, 2780, 2780, 2780]\n",
      "{\n",
      "  \"encrypted_prediction\": 32557\n",
      "}\n",
      "\n",
      "[2780, 2780, 2780, 2780, 2780, 2780, 2780, 33074, 2780, 2780, 2780, 2780]\n",
      "{\n",
      "  \"encrypted_prediction\": 11335\n",
      "}\n",
      "\n",
      "[2780, 2780, 2780, 2780, 2780, 2780, 2780, 2780, 33074, 2780, 2780, 2780]\n",
      "{\n",
      "  \"encrypted_prediction\": 31893\n",
      "}\n",
      "\n",
      "[2780, 2780, 2780, 2780, 2780, 2780, 2780, 2780, 2780, 33074, 2780, 2780]\n",
      "{\n",
      "  \"encrypted_prediction\": 18620\n",
      "}\n",
      "\n",
      "[2780, 2780, 2780, 2780, 2780, 2780, 2780, 2780, 2780, 2780, 33074, 2780]\n",
      "{\n",
      "  \"encrypted_prediction\": 15805\n",
      "}\n",
      "\n",
      "[2780, 2780, 2780, 2780, 2780, 2780, 2780, 2780, 2780, 2780, 2780, 33074]\n",
      "{\n",
      "  \"encrypted_prediction\": 24689\n",
      "}\n",
      "\n"
     ]
    }
   ],
   "source": [
    "for dl in enc_list:\n",
    "    print(dl)\n",
    "    url = 'http://com402.epfl.ch/hw5/ex3/securehealth/prediction_service'\n",
    "    data = {'email':'fengyu.cai@epfl.ch', 'pk':187, 'encrypted_input':dl, 'model':2}\n",
    "    r = requests.post(url=url, json=json.loads(json.dumps(data)))\n",
    "    print(r.text)\n",
    "    time.sleep(1)\n",
    "    dec_list.append(json.loads(r.text)['encrypted_prediction'])"
   ]
  },
  {
   "cell_type": "code",
   "execution_count": 73,
   "metadata": {
    "scrolled": true
   },
   "outputs": [
    {
     "data": {
      "text/plain": [
       "[2593,\n",
       " 15205,\n",
       " 7060,\n",
       " 14792,\n",
       " 23457,\n",
       " 23131,\n",
       " 32557,\n",
       " 11335,\n",
       " 31893,\n",
       " 18620,\n",
       " 15805,\n",
       " 24689]"
      ]
     },
     "execution_count": 73,
     "metadata": {},
     "output_type": "execute_result"
    }
   ],
   "source": [
    "dec_list"
   ]
  },
  {
   "cell_type": "code",
   "execution_count": 74,
   "metadata": {},
   "outputs": [
    {
     "data": {
      "text/plain": [
       "[15, 12, 8, 9, 16, 10, 14, 13, 16, 8, 16, 8]"
      ]
     },
     "execution_count": 74,
     "metadata": {},
     "output_type": "execute_result"
    }
   ],
   "source": [
    "dec_l = [dec(i) for i in dec_list]\n",
    "dec_l"
   ]
  },
  {
   "cell_type": "markdown",
   "metadata": {},
   "source": [
    "Therefore, we have received the weights containing the bias value.\n",
    "- dec_l is the value w1+b, w2+b .....\n",
    "- as w1, w2... are non-negative, the range of b is from 0 to 8\n",
    "- Just iterate!"
   ]
  },
  {
   "cell_type": "code",
   "execution_count": 76,
   "metadata": {},
   "outputs": [
    {
     "name": "stdout",
     "output_type": "stream",
     "text": [
      "Current Bias is 0\n",
      "Current Bias is 1\n",
      "Current Bias is 2\n",
      "Current Bias is 3\n",
      "Current Bias is 4\n",
      "Current Bias is 5\n",
      "Current Bias is 6\n",
      "{\n",
      "  \"token\": \"RPkrAXc9VNdPUWjU/JfIG3Yn6FmG/hlstGqIOIyzUpw=\"\n",
      "}\n",
      "\n"
     ]
    }
   ],
   "source": [
    "url_submit1 = 'http://com402.epfl.ch/hw5/ex3/get_token_2'\n",
    "for b in range(9):\n",
    "    print('Current Bias is {}'.format(b))\n",
    "    data_submit1 = {'email':'fengyu.cai@epfl.ch', 'weights':[i-b for i in dec_l], 'bias':b}\n",
    "    r = requests.post(url=url_submit1, json=json.loads(json.dumps(data_submit1)))\n",
    "    if 'token' in r.text:\n",
    "        print(r.text)\n",
    "        break"
   ]
  }
 ],
 "metadata": {
  "kernelspec": {
   "display_name": "Python 3",
   "language": "python",
   "name": "python3"
  },
  "language_info": {
   "codemirror_mode": {
    "name": "ipython",
    "version": 3
   },
   "file_extension": ".py",
   "mimetype": "text/x-python",
   "name": "python",
   "nbconvert_exporter": "python",
   "pygments_lexer": "ipython3",
   "version": "3.6.7"
  }
 },
 "nbformat": 4,
 "nbformat_minor": 2
}
