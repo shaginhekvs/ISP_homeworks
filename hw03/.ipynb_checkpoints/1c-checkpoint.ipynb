{
 "cells": [
  {
   "cell_type": "code",
   "execution_count": 1,
   "metadata": {},
   "outputs": [],
   "source": [
    "import pandas as pd\n",
    "from collections import Counter\n",
    "import itertools\n",
    "import warnings\n",
    "warnings.filterwarnings('ignore')\n",
    "import numpy as np \n",
    "from functools import reduce\n",
    "import hashlib\n",
    "import random\n",
    "import matplotlib.pyplot as plt"
   ]
  },
  {
   "cell_type": "code",
   "execution_count": 2,
   "metadata": {},
   "outputs": [],
   "source": [
    "weights = [1,2,3,4,5,6,7,8,9,10,11,12,13,14,13,12,11,10,9,8,7,6,5,4,3,2,1]"
   ]
  },
  {
   "cell_type": "code",
   "execution_count": 3,
   "metadata": {},
   "outputs": [],
   "source": [
    "a=[]\n",
    "for i in range(100000):\n",
    "    a.append(random.choices(weights, weights)[0])"
   ]
  },
  {
   "cell_type": "code",
   "execution_count": 4,
   "metadata": {},
   "outputs": [
    {
     "data": {
      "image/png": "[encoded data removed]",
      "text/plain": [
       "<Figure size 432x288 with 1 Axes>"
      ]
     },
     "metadata": {
      "needs_background": "light"
     },
     "output_type": "display_data"
    }
   ],
   "source": [
    "n, bins, patches = plt.hist(a, 50, normed=1, facecolor='g', alpha=0.75)\n",
    "\n",
    "plt.xlabel('Days')\n",
    "plt.ylabel('Probability')\n",
    "plt.title('Histogram of Days ')\n",
    "plt.show()"
   ]
  },
  {
   "cell_type": "code",
   "execution_count": 5,
   "metadata": {},
   "outputs": [],
   "source": [
    "com_3 = pd.read_csv('com402-3.csv',header=None,quotechar='\"',skipinitialspace=True)\n",
    "imdb_3 = pd.read_csv('imdb-3.csv',header=None,quotechar='\"',skipinitialspace=True)\n",
    "com_3.columns = ['email_salt','movie_salt','date','rating']\n",
    "imdb_3.columns = ['email','movie','date','rating']"
   ]
  },
  {
   "cell_type": "code",
   "execution_count": 6,
   "metadata": {},
   "outputs": [],
   "source": [
    "com_3['date'] = pd.to_datetime(com_3['date'], dayfirst=True)\n",
    "com_3['min_date'] = com_3['date'] - pd.to_timedelta(13, unit='d')\n",
    "com_3['max_date'] = com_3['date'] + pd.to_timedelta(13, unit='d')\n",
    "\n",
    "imdb_3['date'] = pd.to_datetime(imdb_3['date'],dayfirst=True)"
   ]
  },
  {
   "cell_type": "code",
   "execution_count": 7,
   "metadata": {},
   "outputs": [],
   "source": [
    "random_emails = ['fouad.mazen@epfl.ch'] + list(imdb_3.email.unique()[0:35])"
   ]
  },
  {
   "cell_type": "code",
   "execution_count": 9,
   "metadata": {},
   "outputs": [],
   "source": [
    "def iterator_movie_dict(com_3,my_subset):\n",
    "\n",
    "    within_my_dates = pd.DataFrame(columns=['email_salt','movie_salt','date','rating','min_date','max_date','imdb_date','imdb_rating','imdb_movie'])\n",
    "    for index, row in com_3.iterrows():\n",
    "\n",
    "        for index_2, row_2 in my_subset.iterrows():\n",
    "\n",
    "            if row.min_date <= row_2.date <= row.max_date:\n",
    "\n",
    "                within_my_dates = within_my_dates.append({'email_salt':row.email_salt,\n",
    "                                                          'movie_salt':row.movie_salt,\n",
    "                                                          'date':row.date,\n",
    "                                                          'rating':row.rating,\n",
    "                                                          'min_date':row.min_date,\n",
    "                                                          'max_date':row.max_date,\n",
    "                                                          'imdb_date': row_2.date,\n",
    "                                                          'imdb_rating': row_2.rating,\n",
    "                                                          'imdb_movie': row_2.movie},ignore_index=True)\n",
    "\n",
    "    same_ratings = within_my_dates.loc[within_my_dates['rating'] == within_my_dates['imdb_rating']]\n",
    "    my_hash = same_ratings['email_salt'].value_counts().index[0]\n",
    "    print(same_ratings['email_salt'].value_counts()[0])\n",
    "    my_movies = same_ratings.loc[same_ratings['email_salt']==my_hash]\n",
    "    my_movies = my_movies.drop_duplicates(subset=['imdb_movie'],keep=False).sort_values(by='imdb_movie')\n",
    "\n",
    "    dict_movies = pd.Series(my_movies.movie_salt.values,index=my_movies.imdb_movie).to_dict()\n",
    "\n",
    "    return my_hash, dict_movies"
   ]
  },
  {
   "cell_type": "code",
   "execution_count": 34,
   "metadata": {
    "scrolled": true
   },
   "outputs": [
    {
     "name": "stdout",
     "output_type": "stream",
     "text": [
      "55\n",
      "#########\n",
      "The e-mail: walid.bennaceur@epfl.ch , The hash: 39605ce87e6b18d430328404837af9ca407d9df4fc78094ff54f721aca165d81\n",
      "55\n",
      "#########\n",
      "The e-mail: ilija.gjorgjiev@epfl.ch , The hash: 2fe4056f9e9c4be890ae8d31520dbebe6eec35e4491cd972aad170cfb15a4294\n",
      "55\n",
      "#########\n",
      "The e-mail: pablo.pfister@epfl.ch , The hash: faaa1b26731aa6ca50df086ec62ede1ab3404323f9acc7c8beb41728a9b78f57\n",
      "52\n",
      "#########\n",
      "The e-mail: hugo.aguettaz@epfl.ch , The hash: 8fe6695c481d6f7d6dfd68aadee24914d0d623e321d50ee1670ad3157fb5543a\n",
      "52\n",
      "#########\n",
      "The e-mail: damian.dudzicz@epfl.ch , The hash: 5e5d056cd44bff92bc7753c314e60918d90f8710146af629aaafc2e367543a28\n",
      "53\n",
      "#########\n",
      "The e-mail: maxime.hulliger@epfl.ch , The hash: 0a1652692e4d89343db55f9c4a2478db345356b221415c30a55528f80c8e2b0f\n",
      "54\n",
      "#########\n",
      "The e-mail: timur.lavrov@epfl.ch , The hash: e902b4dc9d4a9c23cffdc178b2281ba6d7d2ce243cccfb6a1f84940f5b4f2a5c\n",
      "53\n",
      "#########\n",
      "The e-mail: t.nguyen@epfl.ch , The hash: 5cf8439710c10521776eafd6f896b85da3de6707d307d4a3ef07f37ed2063d25\n",
      "56\n",
      "#########\n",
      "The e-mail: alexandre.chambet@epfl.ch , The hash: 1bd50d21cf907863720cdbe9513a349eee6e3c6203a7546b0d266b9044b608ae\n",
      "58\n",
      "#########\n",
      "The e-mail: redouane.elghazi@epfl.ch , The hash: b863b88affc46115fb678fb6f8fed4a053e77961c51be23cbdffa5017ca09b0b\n"
     ]
    }
   ],
   "source": [
    "email_hashes = {}\n",
    "movie_hashes = []\n",
    "\n",
    "for email_ in random_emails_2:\n",
    "    \n",
    "    \n",
    "    my_subset = imdb_3.loc[imdb_3['email']==email_]\n",
    "    \n",
    "    my_hash, dict_movie = iterator_movie_dict(com_3,my_subset)\n",
    "    \n",
    "    print(\"#########\")\n",
    "    print(\"The e-mail: {} , The hash: {}\".format(email_,my_hash))\n",
    "    \n",
    "    email_hashes[email_] = my_hash\n",
    "    movie_hashes.append(dict_movie)"
   ]
  },
  {
   "cell_type": "code",
   "execution_count": 35,
   "metadata": {
    "scrolled": true
   },
   "outputs": [],
   "source": [
    "final_dict = {}\n",
    "for d in movie_hashes: \n",
    "    final_dict.update(d)\n",
    "    \n",
    "my_hash = email_hashes['fouad.mazen@epfl.ch']\n",
    "my_movies = com_3.loc[com_3['email_salt']== my_hash]\n",
    "\n",
    "list_of_movies = []\n",
    "\n",
    "for movie in my_movies.movie_salt.values:\n",
    "    for key_, value_ in final_dict.items():\n",
    "        if movie == value_:\n",
    "            list_of_movies.append(key_)"
   ]
  },
  {
   "cell_type": "code",
   "execution_count": 41,
   "metadata": {},
   "outputs": [],
   "source": [
    "file = open(\"movies_c.txt\",\"w\")\n",
    "for movie_ in list_of_movies:\n",
    "    file.write(movie_ + \"\\n\")\n",
    "    \n",
    "file.close()"
   ]
  },
  {
   "cell_type": "code",
   "execution_count": null,
   "metadata": {},
   "outputs": [],
   "source": []
  },
  {
   "cell_type": "code",
   "execution_count": null,
   "metadata": {},
   "outputs": [],
   "source": []
  }
 ],
 "metadata": {
  "kernelspec": {
   "display_name": "Python 3",
   "language": "python",
   "name": "python3"
  },
  "language_info": {
   "codemirror_mode": {
    "name": "ipython",
    "version": 3
   },
   "file_extension": ".py",
   "mimetype": "text/x-python",
   "name": "python",
   "nbconvert_exporter": "python",
   "pygments_lexer": "ipython3",
   "version": "3.6.4"
  }
 },
 "nbformat": 4,
 "nbformat_minor": 2
}
