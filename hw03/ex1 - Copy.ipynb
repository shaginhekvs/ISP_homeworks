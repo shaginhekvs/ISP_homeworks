{
 "cells": [
  {
   "cell_type": "code",
   "execution_count": 1,
   "metadata": {},
   "outputs": [],
   "source": [
    "import numpy as np\n",
    "import pandas as pd\n",
    "import random \n",
    "from multiprocessing import Pool\n",
    "from datetime import datetime\n",
    "\n"
   ]
  },
  {
   "cell_type": "markdown",
   "metadata": {},
   "source": [
    "# EX1a\n"
   ]
  },
  {
   "cell_type": "code",
   "execution_count": 2,
   "metadata": {},
   "outputs": [
    {
     "ename": "NameError",
     "evalue": "name 'write_res' is not defined",
     "output_type": "error",
     "traceback": [
      "\u001b[1;31m---------------------------------------------------------------------------\u001b[0m",
      "\u001b[1;31mNameError\u001b[0m                                 Traceback (most recent call last)",
      "\u001b[1;32m<ipython-input-2-395fe026e333>\u001b[0m in \u001b[0;36m<module>\u001b[1;34m()\u001b[0m\n\u001b[0;32m     22\u001b[0m         \u001b[0mmapping_movies\u001b[0m\u001b[1;33m[\u001b[0m\u001b[0mx\u001b[0m\u001b[1;33m.\u001b[0m\u001b[0miloc\u001b[0m\u001b[1;33m[\u001b[0m\u001b[1;36m0\u001b[0m\u001b[1;33m,\u001b[0m\u001b[1;36m1\u001b[0m\u001b[1;33m]\u001b[0m\u001b[1;33m]\u001b[0m \u001b[1;33m=\u001b[0m \u001b[0mx\u001b[0m\u001b[1;33m.\u001b[0m\u001b[0miloc\u001b[0m\u001b[1;33m[\u001b[0m\u001b[1;36m0\u001b[0m\u001b[1;33m,\u001b[0m\u001b[1;36m5\u001b[0m\u001b[1;33m]\u001b[0m\u001b[1;33m\u001b[0m\u001b[0m\n\u001b[0;32m     23\u001b[0m \u001b[0mmy_fav_movies\u001b[0m \u001b[1;33m=\u001b[0m \u001b[1;33m[\u001b[0m\u001b[0mmapping_movies\u001b[0m\u001b[1;33m.\u001b[0m\u001b[0mget\u001b[0m\u001b[1;33m(\u001b[0m\u001b[0mx\u001b[0m\u001b[1;33m[\u001b[0m\u001b[1;36m1\u001b[0m\u001b[1;33m]\u001b[0m\u001b[1;33m,\u001b[0m\u001b[1;36m0\u001b[0m\u001b[1;33m)\u001b[0m \u001b[1;32mfor\u001b[0m \u001b[0m_\u001b[0m\u001b[1;33m,\u001b[0m\u001b[0mx\u001b[0m \u001b[1;32min\u001b[0m \u001b[0mmy_dedis_entries\u001b[0m\u001b[1;33m.\u001b[0m\u001b[0miterrows\u001b[0m\u001b[1;33m(\u001b[0m\u001b[1;33m)\u001b[0m\u001b[1;33m]\u001b[0m\u001b[1;33m\u001b[0m\u001b[0m\n\u001b[1;32m---> 24\u001b[1;33m \u001b[0mwrite_res\u001b[0m\u001b[1;33m(\u001b[0m\u001b[1;34m'1a.txt'\u001b[0m\u001b[1;33m,\u001b[0m\u001b[0mmy_fav_movies\u001b[0m\u001b[1;33m)\u001b[0m\u001b[1;33m\u001b[0m\u001b[0m\n\u001b[0m",
      "\u001b[1;31mNameError\u001b[0m: name 'write_res' is not defined"
     ]
    }
   ],
   "source": [
    "email = 'keshav.singh@epfl.ch'\n",
    "imdb = pd.read_csv('imdb-1.csv',header=None,quotechar='\"',skipinitialspace=True)\n",
    "com = pd.read_csv('com402-1.csv',header=None,quotechar='\"',skipinitialspace=True)\n",
    "\n",
    "com_grped_by_date = dict([(x.iloc[0,2],x) for _,x in com.groupby(com[2])])\n",
    "imdb_me = imdb[imdb[0] ==email]\n",
    "list_potential_movies = []\n",
    "\n",
    "for i in imdb_me[2]:\n",
    "    list_potential_movies.append(com_grped_by_date[i])\n",
    "my_id = None\n",
    "for elem in list_potential_movies:\n",
    "    if(len(elem) == 1):\n",
    "        my_id = elem.iloc[0,0]\n",
    "my_dedis_entries = com[com[0] == my_id]\n",
    "\n",
    "\n",
    "mapping_movies = {}\n",
    "merged = pd.merge(com,imdb,on= 2)\n",
    "for _,x in merged.groupby(merged[2]):\n",
    "    if len(x) == 1:\n",
    "        mapping_movies[x.iloc[0,1]] = x.iloc[0,5]\n",
    "my_fav_movies = [mapping_movies.get(x[1],0) for _,x in my_dedis_entries.iterrows()]\n",
    "write_res('1a.txt',my_fav_movies)"
   ]
  },
  {
   "cell_type": "code",
   "execution_count": 3,
   "metadata": {},
   "outputs": [],
   "source": [
    "def write_res(file_name,array):\n",
    "    result_1a_file = open(file_name,'w')\n",
    "    for movie in array:\n",
    "        result_1a_file.write(movie.strip()+'\\n')\n",
    "    \n"
   ]
  },
  {
   "cell_type": "markdown",
   "metadata": {},
   "source": [
    "# Ex1b"
   ]
  },
  {
   "cell_type": "code",
   "execution_count": 6,
   "metadata": {},
   "outputs": [],
   "source": [
    "imdb = pd.read_csv('imdb-2.csv',header=None,quotechar='\"',skipinitialspace=True)\n",
    "com = pd.read_csv('com402-2.csv',header=None,quotechar='\"',skipinitialspace=True)"
   ]
  },
  {
   "cell_type": "code",
   "execution_count": 7,
   "metadata": {},
   "outputs": [],
   "source": [
    "count_imdb = imdb[1].value_counts().reset_index()\n",
    "count_com = com[1].value_counts().reset_index()\n",
    "concatenated = pd.concat([count_com,count_imdb],axis=1).drop(1,axis = 1)\n",
    "concatenated.columns = ['hash','movie']\n",
    "concatenated = concatenated.set_index('hash')\n",
    "map_hash_movie = concatenated.to_dict()['movie']\n",
    "map_movie_to_hash = dict([(v,k) for k,v in map_hash_movie.items()])"
   ]
  },
  {
   "cell_type": "code",
   "execution_count": 8,
   "metadata": {},
   "outputs": [],
   "source": [
    "my_imdb_movies = imdb[imdb[0] ==email]\n",
    "potential_emails =None\n",
    "for movie in my_imdb_movies[1].values:\n",
    "    hash_ = map_movie_to_hash[movie]\n",
    "    tmp_emails = com[0][com[1] == hash_]\n",
    "    potential_emails = tmp_emails if potential_emails is None else np.intersect1d(potential_emails,tmp_emails.values)\n",
    "    "
   ]
  },
  {
   "cell_type": "code",
   "execution_count": 10,
   "metadata": {},
   "outputs": [],
   "source": [
    "my_email_hash = potential_emails[0]\n",
    "my_fav_movies = [map_hash_movie[x] for x in com[1][com[0] == my_email_hash].values]\n",
    "write_res('1b.txt',my_fav_movies)\n"
   ]
  },
  {
   "cell_type": "markdown",
   "metadata": {},
   "source": [
    "# Ex1c"
   ]
  },
  {
   "cell_type": "code",
   "execution_count": null,
   "metadata": {},
   "outputs": [],
   "source": []
  },
  {
   "cell_type": "code",
   "execution_count": null,
   "metadata": {},
   "outputs": [],
   "source": []
  },
  {
   "cell_type": "code",
   "execution_count": null,
   "metadata": {},
   "outputs": [],
   "source": []
  },
  {
   "cell_type": "code",
   "execution_count": null,
   "metadata": {},
   "outputs": [],
   "source": []
  },
  {
   "cell_type": "code",
   "execution_count": null,
   "metadata": {},
   "outputs": [],
   "source": []
  },
  {
   "cell_type": "code",
   "execution_count": null,
   "metadata": {},
   "outputs": [],
   "source": []
  },
  {
   "cell_type": "code",
   "execution_count": null,
   "metadata": {},
   "outputs": [],
   "source": []
  },
  {
   "cell_type": "code",
   "execution_count": 140,
   "metadata": {
    "collapsed": true
   },
   "outputs": [],
   "source": []
  }
 ],
 "metadata": {
  "kernelspec": {
   "display_name": "Python 3",
   "language": "python",
   "name": "python3"
  },
  "language_info": {
   "codemirror_mode": {
    "name": "ipython",
    "version": 3
   },
   "file_extension": ".py",
   "mimetype": "text/x-python",
   "name": "python",
   "nbconvert_exporter": "python",
   "pygments_lexer": "ipython3",
   "version": "3.6.4"
  }
 },
 "nbformat": 4,
 "nbformat_minor": 2
}
